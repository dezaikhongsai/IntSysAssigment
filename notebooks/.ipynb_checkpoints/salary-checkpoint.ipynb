{
 "cells": [
  {
   "cell_type": "code",
   "execution_count": 1,
   "id": "bc42d3b3",
   "metadata": {},
   "outputs": [
    {
     "name": "stdout",
     "output_type": "stream",
     "text": [
      "\n",
      "Salary dataset (first 20 rows):\n",
      " gender   salary\n",
      "   men  89900.0\n",
      "   men  56200.0\n",
      "   men 105100.0\n",
      "   men 112300.0\n",
      "   men  40800.0\n",
      "   men  51200.0\n",
      "   men  84500.0\n",
      "   men  72400.0\n",
      "   men  80300.0\n",
      "   men  60000.0\n",
      "   men 110000.0\n",
      "   men 106100.0\n",
      "   men  82700.0\n",
      "   men 119900.0\n",
      "   men  95200.0\n",
      "   men  59800.0\n",
      "   men  92000.0\n",
      "   men  57800.0\n",
      "   men 109900.0\n",
      "   men  79400.0\n"
     ]
    },
    {
     "data": {
      "image/png": "[encoded data removed]",
      "text/plain": [
       "<Figure size 900x500 with 1 Axes>"
      ]
     },
     "metadata": {},
     "output_type": "display_data"
    },
    {
     "name": "stdout",
     "output_type": "stream",
     "text": [
      "\n",
      "Summary statistics:\n",
      " gender  count     mean  median      std     min      max\n",
      "   men    120 82121.67 79850.0 22615.86 40800.0 171000.0\n",
      " women    120 72615.83 66350.0 25504.14 35000.0 176700.0\n"
     ]
    },
    {
     "data": {
      "text/plain": [
       "('/mnt/data\\\\salary.csv', '/mnt/data\\\\req11_salary_distribution.png')"
      ]
     },
     "execution_count": 1,
     "metadata": {},
     "output_type": "execute_result"
    }
   ],
   "source": [
    "# === REQUIREMENT 11 — ONE-CELL, SELF-CONTAINED (JUPYTER) ===\n",
    "# Task: Construct salary.csv (gender, salary) and show the distribution of salaries\n",
    "#       for men and women in a single chart.\n",
    "# Notes:\n",
    "#   - Uses Matplotlib only (no seaborn). One chart, no subplots, no explicit colors.\n",
    "#   - Creates a reproducible synthetic dataset you can edit.\n",
    "#   - Saves CSV and figure for your report.\n",
    "\n",
    "import os\n",
    "import numpy as np\n",
    "import pandas as pd\n",
    "import matplotlib.pyplot as plt\n",
    "\n",
    "# ---------- 0) Generate/EDIT dataset ----------\n",
    "# Reproducible random data; edit 'n_each' or 'mean/std' per gender if needed\n",
    "rng = np.random.default_rng(42)\n",
    "n_each = 120\n",
    "\n",
    "# Simulate annual salary (USD) using lognormal-like distributions\n",
    "# (Women and men centered differently just for demonstration; edit as you see fit)\n",
    "men_salaries = np.round(rng.lognormal(mean=11.3, sigma=0.35, size=n_each) / 100) * 100\n",
    "women_salaries = np.round(rng.lognormal(mean=11.15, sigma=0.32, size=n_each) / 100) * 100\n",
    "\n",
    "# Optional clamp to a reasonable range\n",
    "men_salaries = np.clip(men_salaries, 20000, 300000)\n",
    "women_salaries = np.clip(women_salaries, 20000, 300000)\n",
    "\n",
    "data = (\n",
    "    [(\"men\", float(s)) for s in men_salaries] +\n",
    "    [(\"women\", float(s)) for s in women_salaries]\n",
    ")\n",
    "\n",
    "df = pd.DataFrame(data, columns=[\"gender\", \"salary\"])\n",
    "\n",
    "# ---------- 1) Save CSV and display ----------\n",
    "save_dir = \"/mnt/data\"\n",
    "os.makedirs(save_dir, exist_ok=True)\n",
    "csv_path = os.path.join(save_dir, \"salary.csv\")\n",
    "df.to_csv(csv_path, index=False)\n",
    "\n",
    "try:\n",
    "    from caas_jupyter_tools import display_dataframe_to_user\n",
    "    display_dataframe_to_user(\"Requirement 11 - salary.csv\", df)\n",
    "except Exception:\n",
    "    print(\"\\nSalary dataset (first 20 rows):\\n\", df.head(20).to_string(index=False))\n",
    "\n",
    "# ---------- 2) Plot distribution (single chart) ----------\n",
    "plt.figure(figsize=(9,5))\n",
    "\n",
    "# Choose common bins from combined data so histograms are comparable\n",
    "combined = np.concatenate([men_salaries, women_salaries])\n",
    "bins = np.histogram_bin_edges(combined, bins=\"auto\")\n",
    "\n",
    "plt.hist(men_salaries, bins=bins, alpha=0.6, density=True, label=\"men\")     # default colors only\n",
    "plt.hist(women_salaries, bins=bins, alpha=0.6, density=True, label=\"women\") # default colors only\n",
    "\n",
    "plt.title(\"Salary Distribution by Gender\")\n",
    "plt.xlabel(\"Salary\")\n",
    "plt.ylabel(\"Density\")\n",
    "plt.legend(title=\"Gender\")\n",
    "\n",
    "fig_path = os.path.join(save_dir, \"req11_salary_distribution.png\")\n",
    "plt.savefig(fig_path, bbox_inches=\"tight\")\n",
    "plt.show()\n",
    "\n",
    "# ---------- 3) Quick descriptive statistics (optional for verification) ----------\n",
    "summary = (\n",
    "    df.groupby(\"gender\")[\"salary\"]\n",
    "      .agg(count=\"count\", mean=\"mean\", median=\"median\", std=\"std\", min=\"min\", max=\"max\")\n",
    "      .round(2)\n",
    "      .reset_index()\n",
    ")\n",
    "\n",
    "try:\n",
    "    from caas_jupyter_tools import display_dataframe_to_user\n",
    "    display_dataframe_to_user(\"Requirement 11 - Summary Stats\", summary)\n",
    "except Exception:\n",
    "    print(\"\\nSummary statistics:\\n\", summary.to_string(index=False))\n",
    "\n",
    "(csv_path, fig_path)\n"
   ]
  }
 ],
 "metadata": {
  "kernelspec": {
   "display_name": "venv",
   "language": "python",
   "name": "python3"
  },
  "language_info": {
   "codemirror_mode": {
    "name": "ipython",
    "version": 3
   },
   "file_extension": ".py",
   "mimetype": "text/x-python",
   "name": "python",
   "nbconvert_exporter": "python",
   "pygments_lexer": "ipython3",
   "version": "3.13.6"
  }
 },
 "nbformat": 4,
 "nbformat_minor": 5
}
